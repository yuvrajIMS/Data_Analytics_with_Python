{
 "cells": [
  {
   "cell_type": "markdown",
   "id": "5813b95a",
   "metadata": {},
   "source": [
    "# ONLINE Course : Data Analytics with Python (IIT-ROORKEE)\n",
    "\n",
    "## Week - 2\n",
    "## 1. Introduction to probability \n",
    "## 2. Probability Distributions \n"
   ]
  },
  {
   "cell_type": "markdown",
   "id": "cf156781",
   "metadata": {},
   "source": [
    "### Introduction to probability - I "
   ]
  },
  {
   "cell_type": "code",
   "execution_count": null,
   "id": "1c815e55",
   "metadata": {},
   "outputs": [],
   "source": []
  }
 ],
 "metadata": {
  "kernelspec": {
   "display_name": "Python 3 (ipykernel)",
   "language": "python",
   "name": "python3"
  },
  "language_info": {
   "codemirror_mode": {
    "name": "ipython",
    "version": 3
   },
   "file_extension": ".py",
   "mimetype": "text/x-python",
   "name": "python",
   "nbconvert_exporter": "python",
   "pygments_lexer": "ipython3",
   "version": "3.9.13"
  }
 },
 "nbformat": 4,
 "nbformat_minor": 5
}
