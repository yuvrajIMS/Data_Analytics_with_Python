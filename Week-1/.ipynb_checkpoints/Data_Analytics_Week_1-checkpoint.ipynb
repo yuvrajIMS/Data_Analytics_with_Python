{
 "cells": [
  {
   "cell_type": "markdown",
   "id": "d13ac294",
   "metadata": {},
   "source": [
    "# Course : Data Analytics with Python ( IIT-ROORKEE)\n",
    "\n",
    "## Week -1 \n",
    "## 1. Introduction to analytics \n",
    "## 2. Python fundamentals\n",
    "## 3. Central tendency and dispersion \n",
    "## 4. Important data files \n",
    "\n",
    "======================================================================\n",
    "\n",
    "## Introduction to Data-Analytics \n",
    "\n",
    "1. Variable - is a characteristics of any entity being studied that is capable of taking different values.\n",
    "2. Measurements - is when a standard process is used to assign numbers to particular attributes or characteristics of a variable.\n",
    "3. Data - data are recorded measurements. \n",
    "\n",
    "4. Data Analytics - It is a scientific process for transforming data into insights for making better decisions. In other words, it use of data, information technology, statistical analysis, quantitive methods, and mathematical or computer-based model to help managers gain improved insight about their business operations and make better, fact-based decisions - James Evans. It is the process of examining, transforming, and arranging raw data in a specific way to generate useful information from it. it allows for the evaluation of data through analytics and logical reasoning to lead to some sort of outcome or conclusion in some context. It is multi-faceted process that involves a number of steps, approached, and diverse techniques. \n",
    " \n",
    "5. Data Analysis (PAST)\n",
    "6. Data Analytics (FUTURE)  \n",
    "7. Qualitative = intuition + analysis (E.x. how and why story ends the way it did ? ) - Quantitative = Formulas + algorithms (Data + how the sale decreased last summer). \n",
    "\n",
    "8. Analysis != Analytics \n"
   ]
  },
  {
   "cell_type": "markdown",
   "id": "64d39d4a",
   "metadata": {},
   "source": [
    "======================================================================"
   ]
  },
  {
   "cell_type": "markdown",
   "id": "b6938c12",
   "metadata": {},
   "source": [
    "9. Classification of Data-Analytics\n",
    "\n",
    "a. Descriptive analytics (statistics) - what happened ?\n",
    "Can summarise raw data and convert it into a form that can be easily understood by humans. E.x. Data queries, reports, descriptive statistics, data visualisation and data dashboard.\n",
    "\n",
    "b. Diagnostics analytics - why did it happen ?\n",
    "E.x. Data discovery, mining and correlations\n",
    "\n",
    "c. Predictive analytics - What will happen ?\n",
    "helps to forecast trends.Predicting the probability of an event happening in future or estimating the accurate time it will happen can all be determined with help of the predictive analytical models. Many different but co-dependent variables are analysed to predict a trend in this type of analysis. E.x. Linear regression, time series analysis and forecasting and data mining. \n",
    "\n",
    "d. Prescriptive analytics - How can we make it happen ?\n",
    "set of techniques to indicate the best course of action. it tells what decision to make to optimise the outcome. the goal of prescriptive is to enable. E.x. Optimise model, simulation, decision analysis. \n"
   ]
  },
  {
   "cell_type": "markdown",
   "id": "2ac2a80f",
   "metadata": {},
   "source": [
    "======================================================================"
   ]
  },
  {
   "cell_type": "markdown",
   "id": "a23b7591",
   "metadata": {},
   "source": [
    "10. Required skill set for Data Scientist \n",
    "\n",
    "a. Mathematic Expertise \n",
    "\n",
    "b. Technology \n",
    "\n",
    "c. Business and strategy acumen\n",
    "\n",
    "11. Job Categorisation\n",
    "\n",
    "a. Data exploration analysis and insight (Data Analyst & Data Scientist) \n",
    "\n",
    "b. Adv algorithms and machine learning (Data Scientist)\n",
    "\n",
    "c. Data product engineering (Data Scientist)\n",
    "\n",
    "12. Types of Data  \n",
    "\n",
    "a. Categorical (Defined categories) \n",
    "\n",
    "b. Numerical -> Discrete (counted items) or continuous(measured characteristics)"
   ]
  },
  {
   "cell_type": "markdown",
   "id": "072d464e",
   "metadata": {},
   "source": [
    "======================================================================"
   ]
  },
  {
   "cell_type": "markdown",
   "id": "c5ee1807",
   "metadata": {},
   "source": [
    "13. Levels of Data Measurement\n",
    "\n",
    "a. Nominal - lowest level of measurement (NO ARITHMETIC OPERATIONS) . A nominal scale classifies data into distinct categories in which no ranking is implied. E.x. gender, marital status. \n",
    "[non-parametrical]\n",
    "\n",
    "b. Ordinal (NO ARITHMETIC OPERATIONS)\n",
    "classifies data into distinct categories. E.x. Grades A, B, C, D etc\n",
    "[non-parametrical]\n",
    "\n",
    "c. Interval scale ( ADD SUBTRACT, NO MULTIPLICATION)\n",
    "The interval scale is ordered scale, in which the difference between measurements is a meaningful quantities but the measurement do not have a zero point. E.x. year, temperature.\n",
    "[parametrical]\n",
    "\n",
    "d. Ratio - highest level of measurement (ALL ARITHMETIC OPERATIONS)\n",
    "The ratio scale is the ordered scale in which the difference between the measurements isa meaningful quantity and the measurements have the true zero point. Weight, age, salary and the Kelvin temperature comes under ratio scale. it has highest usage potential. \n",
    "[parametrical]\n"
   ]
  },
  {
   "cell_type": "markdown",
   "id": "c8b3d07d",
   "metadata": {},
   "source": [
    "======================================================================"
   ]
  },
  {
   "cell_type": "markdown",
   "id": "84302a5c",
   "metadata": {},
   "source": [
    "# Python Fundamentals - 1 "
   ]
  },
  {
   "cell_type": "code",
   "execution_count": 2,
   "id": "9d2831d8",
   "metadata": {},
   "outputs": [],
   "source": [
    "import pandas as pd \n",
    "import numpy as np\n",
    "import matplotlib.pyplot as plt "
   ]
  },
  {
   "cell_type": "code",
   "execution_count": 5,
   "id": "34991265",
   "metadata": {},
   "outputs": [],
   "source": [
    "df = pd.read_csv('/Users/yuvrajsingh/Data_Analytics_with_Python_IIT_Roorkee/Week-1/import_export_t10.csv', sep=';', header = None, encoding='iso-8859-1')"
   ]
  },
  {
   "cell_type": "code",
   "execution_count": 6,
   "id": "a37e6dab",
   "metadata": {},
   "outputs": [],
   "source": [
    "# using df.columns = df.iloc[0] to replace \n",
    "df.columns = df.iloc[0] \n",
    "df = df[1:]"
   ]
  },
  {
   "cell_type": "code",
   "execution_count": 7,
   "id": "3d4b1b54",
   "metadata": {},
   "outputs": [
    {
     "data": {
      "text/html": [
       "<div>\n",
       "<style scoped>\n",
       "    .dataframe tbody tr th:only-of-type {\n",
       "        vertical-align: middle;\n",
       "    }\n",
       "\n",
       "    .dataframe tbody tr th {\n",
       "        vertical-align: top;\n",
       "    }\n",
       "\n",
       "    .dataframe thead th {\n",
       "        text-align: right;\n",
       "    }\n",
       "</style>\n",
       "<table border=\"1\" class=\"dataframe\">\n",
       "  <thead>\n",
       "    <tr style=\"text-align: right;\">\n",
       "      <th></th>\n",
       "      <th>Year</th>\n",
       "      <th>Country</th>\n",
       "      <th>Code</th>\n",
       "      <th>Item</th>\n",
       "      <th>ExportWeight_InTons</th>\n",
       "      <th>ExportValue_EUROs</th>\n",
       "      <th>ExportValue_inUSD</th>\n",
       "      <th>ImportWeight_InTons</th>\n",
       "      <th>ImportValue_inEUROs</th>\n",
       "      <th>ImportValue_inUSD</th>\n",
       "    </tr>\n",
       "  </thead>\n",
       "  <tbody>\n",
       "    <tr>\n",
       "      <th>1</th>\n",
       "      <td>2018</td>\n",
       "      <td>Belgien (ab 1999)</td>\n",
       "      <td>WA27</td>\n",
       "      <td>Mineralische Brennstoffe usw.</td>\n",
       "      <td>3132455,3</td>\n",
       "      <td>1229892</td>\n",
       "      <td>1456073</td>\n",
       "      <td>8543471,2</td>\n",
       "      <td>4526719</td>\n",
       "      <td>5346907</td>\n",
       "    </tr>\n",
       "    <tr>\n",
       "      <th>2</th>\n",
       "      <td>2018</td>\n",
       "      <td>Belgien (ab 1999)</td>\n",
       "      <td>WA28</td>\n",
       "      <td>Anorganische chemische Erzeugnisse</td>\n",
       "      <td>1545331,2</td>\n",
       "      <td>431869</td>\n",
       "      <td>510397</td>\n",
       "      <td>1387616,7</td>\n",
       "      <td>513330</td>\n",
       "      <td>605953</td>\n",
       "    </tr>\n",
       "    <tr>\n",
       "      <th>3</th>\n",
       "      <td>2018</td>\n",
       "      <td>Belgien (ab 1999)</td>\n",
       "      <td>WA29</td>\n",
       "      <td>Organische chemische Erzeugnisse</td>\n",
       "      <td>1910362,9</td>\n",
       "      <td>2153530</td>\n",
       "      <td>2555244</td>\n",
       "      <td>2956011,4</td>\n",
       "      <td>8276110</td>\n",
       "      <td>9792420</td>\n",
       "    </tr>\n",
       "    <tr>\n",
       "      <th>4</th>\n",
       "      <td>2018</td>\n",
       "      <td>Belgien (ab 1999)</td>\n",
       "      <td>WA30</td>\n",
       "      <td>Pharmazeutische Erzeugnisse</td>\n",
       "      <td>19757,2</td>\n",
       "      <td>2514640</td>\n",
       "      <td>2968963</td>\n",
       "      <td>24980,7</td>\n",
       "      <td>2135333</td>\n",
       "      <td>2518162</td>\n",
       "    </tr>\n",
       "    <tr>\n",
       "      <th>5</th>\n",
       "      <td>2018</td>\n",
       "      <td>Belgien (ab 1999)</td>\n",
       "      <td>WA31</td>\n",
       "      <td>Düngemittel</td>\n",
       "      <td>638300,2</td>\n",
       "      <td>183896</td>\n",
       "      <td>218012</td>\n",
       "      <td>598110,9</td>\n",
       "      <td>151763</td>\n",
       "      <td>180433</td>\n",
       "    </tr>\n",
       "    <tr>\n",
       "      <th>...</th>\n",
       "      <td>...</td>\n",
       "      <td>...</td>\n",
       "      <td>...</td>\n",
       "      <td>...</td>\n",
       "      <td>...</td>\n",
       "      <td>...</td>\n",
       "      <td>...</td>\n",
       "      <td>...</td>\n",
       "      <td>...</td>\n",
       "      <td>...</td>\n",
       "    </tr>\n",
       "    <tr>\n",
       "      <th>796</th>\n",
       "      <td>2021</td>\n",
       "      <td>China</td>\n",
       "      <td>WA87</td>\n",
       "      <td>Kraftfahrzeuge, Landfahrzeuge</td>\n",
       "      <td>1187697,4</td>\n",
       "      <td>26671184</td>\n",
       "      <td>31567845</td>\n",
       "      <td>588067,6</td>\n",
       "      <td>4024440</td>\n",
       "      <td>4754502</td>\n",
       "    </tr>\n",
       "    <tr>\n",
       "      <th>797</th>\n",
       "      <td>2021</td>\n",
       "      <td>China</td>\n",
       "      <td>WA88</td>\n",
       "      <td>Luftfahrzeuge, Raumfahrzeuge</td>\n",
       "      <td>3474,4</td>\n",
       "      <td>3896562</td>\n",
       "      <td>4592479</td>\n",
       "      <td>434,6</td>\n",
       "      <td>93878</td>\n",
       "      <td>110141</td>\n",
       "    </tr>\n",
       "    <tr>\n",
       "      <th>798</th>\n",
       "      <td>2021</td>\n",
       "      <td>China</td>\n",
       "      <td>WA89</td>\n",
       "      <td>Wasserfahrzeuge</td>\n",
       "      <td>169889,3</td>\n",
       "      <td>210001</td>\n",
       "      <td>252727</td>\n",
       "      <td>293818,6</td>\n",
       "      <td>574828</td>\n",
       "      <td>677396</td>\n",
       "    </tr>\n",
       "    <tr>\n",
       "      <th>799</th>\n",
       "      <td>2021</td>\n",
       "      <td>China</td>\n",
       "      <td>WA90</td>\n",
       "      <td>Optische, photografische usw. Erzeugnisse</td>\n",
       "      <td>50941,1</td>\n",
       "      <td>9402137</td>\n",
       "      <td>11119249</td>\n",
       "      <td>131937,8</td>\n",
       "      <td>4677160</td>\n",
       "      <td>5525594</td>\n",
       "    </tr>\n",
       "    <tr>\n",
       "      <th>800</th>\n",
       "      <td>2021</td>\n",
       "      <td>China</td>\n",
       "      <td>WA98</td>\n",
       "      <td>Vollständige Fabrikationsanlagen</td>\n",
       "      <td>2995,7</td>\n",
       "      <td>97336</td>\n",
       "      <td>115739</td>\n",
       "      <td>0</td>\n",
       "      <td>0</td>\n",
       "      <td>0</td>\n",
       "    </tr>\n",
       "  </tbody>\n",
       "</table>\n",
       "<p>800 rows × 10 columns</p>\n",
       "</div>"
      ],
      "text/plain": [
       "0    Year            Country  Code                                       Item  \\\n",
       "1    2018  Belgien (ab 1999)  WA27              Mineralische Brennstoffe usw.   \n",
       "2    2018  Belgien (ab 1999)  WA28         Anorganische chemische Erzeugnisse   \n",
       "3    2018  Belgien (ab 1999)  WA29           Organische chemische Erzeugnisse   \n",
       "4    2018  Belgien (ab 1999)  WA30                Pharmazeutische Erzeugnisse   \n",
       "5    2018  Belgien (ab 1999)  WA31                                Düngemittel   \n",
       "..    ...                ...   ...                                        ...   \n",
       "796  2021              China  WA87              Kraftfahrzeuge, Landfahrzeuge   \n",
       "797  2021              China  WA88               Luftfahrzeuge, Raumfahrzeuge   \n",
       "798  2021              China  WA89                            Wasserfahrzeuge   \n",
       "799  2021              China  WA90  Optische, photografische usw. Erzeugnisse   \n",
       "800  2021              China  WA98           Vollständige Fabrikationsanlagen   \n",
       "\n",
       "0   ExportWeight_InTons ExportValue_EUROs ExportValue_inUSD  \\\n",
       "1             3132455,3           1229892           1456073   \n",
       "2             1545331,2            431869            510397   \n",
       "3             1910362,9           2153530           2555244   \n",
       "4               19757,2           2514640           2968963   \n",
       "5              638300,2            183896            218012   \n",
       "..                  ...               ...               ...   \n",
       "796           1187697,4          26671184          31567845   \n",
       "797              3474,4           3896562           4592479   \n",
       "798            169889,3            210001            252727   \n",
       "799             50941,1           9402137          11119249   \n",
       "800              2995,7             97336            115739   \n",
       "\n",
       "0   ImportWeight_InTons ImportValue_inEUROs ImportValue_inUSD  \n",
       "1             8543471,2             4526719           5346907  \n",
       "2             1387616,7              513330            605953  \n",
       "3             2956011,4             8276110           9792420  \n",
       "4               24980,7             2135333           2518162  \n",
       "5              598110,9              151763            180433  \n",
       "..                  ...                 ...               ...  \n",
       "796            588067,6             4024440           4754502  \n",
       "797               434,6               93878            110141  \n",
       "798            293818,6              574828            677396  \n",
       "799            131937,8             4677160           5525594  \n",
       "800                   0                   0                 0  \n",
       "\n",
       "[800 rows x 10 columns]"
      ]
     },
     "execution_count": 7,
     "metadata": {},
     "output_type": "execute_result"
    }
   ],
   "source": [
    "df"
   ]
  },
  {
   "cell_type": "code",
   "execution_count": 8,
   "id": "b23fc5db",
   "metadata": {},
   "outputs": [
    {
     "name": "stdout",
     "output_type": "stream",
     "text": [
      "0  Year            Country  Code                                Item  \\\n",
      "1  2018  Belgien (ab 1999)  WA27       Mineralische Brennstoffe usw.   \n",
      "2  2018  Belgien (ab 1999)  WA28  Anorganische chemische Erzeugnisse   \n",
      "3  2018  Belgien (ab 1999)  WA29    Organische chemische Erzeugnisse   \n",
      "4  2018  Belgien (ab 1999)  WA30         Pharmazeutische Erzeugnisse   \n",
      "5  2018  Belgien (ab 1999)  WA31                         Düngemittel   \n",
      "\n",
      "0 ExportWeight_InTons ExportValue_EUROs ExportValue_inUSD ImportWeight_InTons  \\\n",
      "1           3132455,3           1229892           1456073           8543471,2   \n",
      "2           1545331,2            431869            510397           1387616,7   \n",
      "3           1910362,9           2153530           2555244           2956011,4   \n",
      "4             19757,2           2514640           2968963             24980,7   \n",
      "5            638300,2            183896            218012            598110,9   \n",
      "\n",
      "0 ImportValue_inEUROs ImportValue_inUSD  \n",
      "1             4526719           5346907  \n",
      "2              513330            605953  \n",
      "3             8276110           9792420  \n",
      "4             2135333           2518162  \n",
      "5              151763            180433  \n"
     ]
    }
   ],
   "source": [
    "print(df.head())"
   ]
  },
  {
   "cell_type": "code",
   "execution_count": 9,
   "id": "508b013d",
   "metadata": {},
   "outputs": [
    {
     "name": "stdout",
     "output_type": "stream",
     "text": [
      "(800, 10)\n"
     ]
    }
   ],
   "source": [
    "print(df.shape)"
   ]
  },
  {
   "cell_type": "code",
   "execution_count": 10,
   "id": "a7a0c950",
   "metadata": {},
   "outputs": [
    {
     "name": "stdout",
     "output_type": "stream",
     "text": [
      "Index(['Year', 'Country', 'Code', 'Item', 'ExportWeight_InTons',\n",
      "       'ExportValue_EUROs', 'ExportValue_inUSD', 'ImportWeight_InTons',\n",
      "       'ImportValue_inEUROs', 'ImportValue_inUSD'],\n",
      "      dtype='object', name=0)\n"
     ]
    }
   ],
   "source": [
    "print(df.columns)"
   ]
  },
  {
   "cell_type": "code",
   "execution_count": 11,
   "id": "bb885f78",
   "metadata": {},
   "outputs": [
    {
     "name": "stdout",
     "output_type": "stream",
     "text": [
      "0\n",
      "Year                   object\n",
      "Country                object\n",
      "Code                   object\n",
      "Item                   object\n",
      "ExportWeight_InTons    object\n",
      "ExportValue_EUROs      object\n",
      "ExportValue_inUSD      object\n",
      "ImportWeight_InTons    object\n",
      "ImportValue_inEUROs    object\n",
      "ImportValue_inUSD      object\n",
      "dtype: object\n"
     ]
    }
   ],
   "source": [
    "print(df.dtypes)"
   ]
  },
  {
   "cell_type": "code",
   "execution_count": 12,
   "id": "f100ea3f",
   "metadata": {},
   "outputs": [],
   "source": [
    "df['Year'] = pd.to_numeric(df['Year'])\n",
    "df['Country'] = df['Country'].astype('string')\n",
    "df['ExportValue_EUROs'] = pd.to_numeric(df['ExportValue_EUROs'])\n",
    "df['ExportValue_inUSD'] = pd.to_numeric(df['ExportValue_inUSD'])\n",
    "df['ImportValue_inEUROs'] = pd.to_numeric(df['ImportValue_inEUROs'])\n",
    "df['ImportValue_inUSD'] = pd.to_numeric(df['ImportValue_inUSD'])"
   ]
  },
  {
   "cell_type": "code",
   "execution_count": 13,
   "id": "4eb51ee0",
   "metadata": {},
   "outputs": [
    {
     "name": "stdout",
     "output_type": "stream",
     "text": [
      "<class 'pandas.core.frame.DataFrame'>\n",
      "RangeIndex: 800 entries, 1 to 800\n",
      "Data columns (total 10 columns):\n",
      " #   Column               Non-Null Count  Dtype \n",
      "---  ------               --------------  ----- \n",
      " 0   Year                 800 non-null    int64 \n",
      " 1   Country              800 non-null    string\n",
      " 2   Code                 800 non-null    object\n",
      " 3   Item                 800 non-null    object\n",
      " 4   ExportWeight_InTons  800 non-null    object\n",
      " 5   ExportValue_EUROs    800 non-null    int64 \n",
      " 6   ExportValue_inUSD    800 non-null    int64 \n",
      " 7   ImportWeight_InTons  800 non-null    object\n",
      " 8   ImportValue_inEUROs  800 non-null    int64 \n",
      " 9   ImportValue_inUSD    800 non-null    int64 \n",
      "dtypes: int64(5), object(4), string(1)\n",
      "memory usage: 62.6+ KB\n",
      "None\n"
     ]
    }
   ],
   "source": [
    "print(df.info())"
   ]
  },
  {
   "cell_type": "code",
   "execution_count": 14,
   "id": "b360d406",
   "metadata": {},
   "outputs": [
    {
     "data": {
      "text/plain": [
       "1    WA27\n",
       "2    WA28\n",
       "3    WA29\n",
       "4    WA30\n",
       "5    WA31\n",
       "Name: Code, dtype: object"
      ]
     },
     "execution_count": 14,
     "metadata": {},
     "output_type": "execute_result"
    }
   ],
   "source": [
    "# for specific column\n",
    "code = df['Code']\n",
    "\n",
    "# to see first 5 entries \n",
    "code.head() "
   ]
  },
  {
   "cell_type": "code",
   "execution_count": 15,
   "id": "a8faa54f",
   "metadata": {},
   "outputs": [
    {
     "data": {
      "text/plain": [
       "796    WA87\n",
       "797    WA88\n",
       "798    WA89\n",
       "799    WA90\n",
       "800    WA98\n",
       "Name: Code, dtype: object"
      ]
     },
     "execution_count": 15,
     "metadata": {},
     "output_type": "execute_result"
    }
   ],
   "source": [
    "# to see last 5 entries \n",
    "code.tail() "
   ]
  },
  {
   "cell_type": "code",
   "execution_count": 16,
   "id": "7bac4154",
   "metadata": {},
   "outputs": [
    {
     "data": {
      "text/html": [
       "<div>\n",
       "<style scoped>\n",
       "    .dataframe tbody tr th:only-of-type {\n",
       "        vertical-align: middle;\n",
       "    }\n",
       "\n",
       "    .dataframe tbody tr th {\n",
       "        vertical-align: top;\n",
       "    }\n",
       "\n",
       "    .dataframe thead th {\n",
       "        text-align: right;\n",
       "    }\n",
       "</style>\n",
       "<table border=\"1\" class=\"dataframe\">\n",
       "  <thead>\n",
       "    <tr style=\"text-align: right;\">\n",
       "      <th></th>\n",
       "      <th>Year</th>\n",
       "      <th>Country</th>\n",
       "      <th>Code</th>\n",
       "      <th>ExportWeight_InTons</th>\n",
       "    </tr>\n",
       "  </thead>\n",
       "  <tbody>\n",
       "    <tr>\n",
       "      <th>1</th>\n",
       "      <td>2018</td>\n",
       "      <td>Belgien (ab 1999)</td>\n",
       "      <td>WA27</td>\n",
       "      <td>3132455,3</td>\n",
       "    </tr>\n",
       "    <tr>\n",
       "      <th>2</th>\n",
       "      <td>2018</td>\n",
       "      <td>Belgien (ab 1999)</td>\n",
       "      <td>WA28</td>\n",
       "      <td>1545331,2</td>\n",
       "    </tr>\n",
       "    <tr>\n",
       "      <th>3</th>\n",
       "      <td>2018</td>\n",
       "      <td>Belgien (ab 1999)</td>\n",
       "      <td>WA29</td>\n",
       "      <td>1910362,9</td>\n",
       "    </tr>\n",
       "    <tr>\n",
       "      <th>4</th>\n",
       "      <td>2018</td>\n",
       "      <td>Belgien (ab 1999)</td>\n",
       "      <td>WA30</td>\n",
       "      <td>19757,2</td>\n",
       "    </tr>\n",
       "    <tr>\n",
       "      <th>5</th>\n",
       "      <td>2018</td>\n",
       "      <td>Belgien (ab 1999)</td>\n",
       "      <td>WA31</td>\n",
       "      <td>638300,2</td>\n",
       "    </tr>\n",
       "  </tbody>\n",
       "</table>\n",
       "</div>"
      ],
      "text/plain": [
       "0  Year            Country  Code ExportWeight_InTons\n",
       "1  2018  Belgien (ab 1999)  WA27           3132455,3\n",
       "2  2018  Belgien (ab 1999)  WA28           1545331,2\n",
       "3  2018  Belgien (ab 1999)  WA29           1910362,9\n",
       "4  2018  Belgien (ab 1999)  WA30             19757,2\n",
       "5  2018  Belgien (ab 1999)  WA31            638300,2"
      ]
     },
     "execution_count": 16,
     "metadata": {},
     "output_type": "execute_result"
    }
   ],
   "source": [
    "# to see multiple columns \n",
    "subset = df[['Year','Country','Code','ExportWeight_InTons']]\n",
    "subset.head()"
   ]
  },
  {
   "cell_type": "code",
   "execution_count": 17,
   "id": "57ca34f5",
   "metadata": {},
   "outputs": [
    {
     "name": "stdout",
     "output_type": "stream",
     "text": [
      "For 1st row \n",
      " 0\n",
      "Year                                            2018\n",
      "Country                            Belgien (ab 1999)\n",
      "Code                                            WA27\n",
      "Item                   Mineralische Brennstoffe usw.\n",
      "ExportWeight_InTons                        3132455,3\n",
      "ExportValue_EUROs                            1229892\n",
      "ExportValue_inUSD                            1456073\n",
      "ImportWeight_InTons                        8543471,2\n",
      "ImportValue_inEUROs                          4526719\n",
      "ImportValue_inUSD                            5346907\n",
      "Name: 1, dtype: object\n",
      "\n",
      "\n",
      "For 50th row \n",
      " 0\n",
      "Year                              2018\n",
      "Country                        Italien\n",
      "Code                              WA72\n",
      "Item                   Eisen und Stahl\n",
      "ExportWeight_InTons          4018638,0\n",
      "ExportValue_EUROs              2346239\n",
      "ExportValue_inUSD              2775619\n",
      "ImportWeight_InTons          3498600,2\n",
      "ImportValue_inEUROs            3063393\n",
      "ImportValue_inUSD              3624444\n",
      "Name: 50, dtype: object\n"
     ]
    }
   ],
   "source": [
    "# subest rows by index label\n",
    "# ROW indexing starts from ZERO by defult, but we have set it from 1 above \n",
    "print(\"For 1st row \\n\",df.loc[1])\n",
    "print(\"\\n\")\n",
    "# for 50th row \n",
    "print(\"For 50th row \\n\",df.loc[50])"
   ]
  },
  {
   "cell_type": "markdown",
   "id": "407d05f8",
   "metadata": {},
   "source": [
    "# Python Fundamentals - 2"
   ]
  },
  {
   "cell_type": "code",
   "execution_count": 18,
   "id": "002ea792",
   "metadata": {},
   "outputs": [
    {
     "name": "stdout",
     "output_type": "stream",
     "text": [
      "Last row  0    Year Country  Code                              Item ExportWeight_InTons  \\\n",
      "800  2021   China  WA98  Vollständige Fabrikationsanlagen              2995,7   \n",
      "\n",
      "0    ExportValue_EUROs  ExportValue_inUSD ImportWeight_InTons  \\\n",
      "800              97336             115739                   0   \n",
      "\n",
      "0    ImportValue_inEUROs  ImportValue_inUSD  \n",
      "800                    0                  0  \n"
     ]
    }
   ],
   "source": [
    "# To get last row \n",
    "print(\"Last row \",df.tail(n=1))"
   ]
  },
  {
   "cell_type": "code",
   "execution_count": 19,
   "id": "0a26a614",
   "metadata": {},
   "outputs": [
    {
     "name": "stdout",
     "output_type": "stream",
     "text": [
      "0  Year            Country  Code                                      Item  \\\n",
      "2  2018  Belgien (ab 1999)  WA28        Anorganische chemische Erzeugnisse   \n",
      "6  2018  Belgien (ab 1999)  WA33  Etherische Öle, Riech-, Schönheitsmittel   \n",
      "8  2018  Belgien (ab 1999)  WA37                Photochemische Erzeugnisse   \n",
      "\n",
      "0 ExportWeight_InTons  ExportValue_EUROs  ExportValue_inUSD  \\\n",
      "2           1545331,2             431869             510397   \n",
      "6             50718,5             262490             310460   \n",
      "8             38596,8             205430             242665   \n",
      "\n",
      "0 ImportWeight_InTons  ImportValue_inEUROs  ImportValue_inUSD  \n",
      "2           1387616,7               513330             605953  \n",
      "6             32888,4               125731             148713  \n",
      "8              8358,3                58600              69233  \n"
     ]
    }
   ],
   "source": [
    "# Subsetting multiple rows using loc()\n",
    "print(df.loc[[2, 6, 8]])"
   ]
  },
  {
   "cell_type": "code",
   "execution_count": 20,
   "id": "cc29adbe",
   "metadata": {},
   "outputs": [
    {
     "name": "stdout",
     "output_type": "stream",
     "text": [
      "0\n",
      "Year                                                 2018\n",
      "Country                                 Belgien (ab 1999)\n",
      "Code                                                 WA28\n",
      "Item                   Anorganische chemische Erzeugnisse\n",
      "ExportWeight_InTons                             1545331,2\n",
      "ExportValue_EUROs                                  431869\n",
      "ExportValue_inUSD                                  510397\n",
      "ImportWeight_InTons                             1387616,7\n",
      "ImportValue_inEUROs                                513330\n",
      "ImportValue_inUSD                                  605953\n",
      "Name: 2, dtype: object\n"
     ]
    }
   ],
   "source": [
    "# Get second row \n",
    "print(df.iloc[1])"
   ]
  },
  {
   "cell_type": "code",
   "execution_count": 21,
   "id": "1101c640",
   "metadata": {},
   "outputs": [
    {
     "name": "stdout",
     "output_type": "stream",
     "text": [
      "0\n",
      "Year                              2018\n",
      "Country                        Italien\n",
      "Code                              WA72\n",
      "Item                   Eisen und Stahl\n",
      "ExportWeight_InTons          4018638,0\n",
      "ExportValue_EUROs              2346239\n",
      "ExportValue_inUSD              2775619\n",
      "ImportWeight_InTons          3498600,2\n",
      "ImportValue_inEUROs            3063393\n",
      "ImportValue_inUSD              3624444\n",
      "Name: 50, dtype: object\n"
     ]
    }
   ],
   "source": [
    "# Get 50th row \n",
    "print(df.iloc[49])"
   ]
  },
  {
   "cell_type": "code",
   "execution_count": 22,
   "id": "97150cf4",
   "metadata": {},
   "outputs": [
    {
     "name": "stdout",
     "output_type": "stream",
     "text": [
      "0\n",
      "Year                                               2021\n",
      "Country                                           China\n",
      "Code                                               WA98\n",
      "Item                   Vollständige Fabrikationsanlagen\n",
      "ExportWeight_InTons                              2995,7\n",
      "ExportValue_EUROs                                 97336\n",
      "ExportValue_inUSD                                115739\n",
      "ImportWeight_InTons                                   0\n",
      "ImportValue_inEUROs                                   0\n",
      "ImportValue_inUSD                                     0\n",
      "Name: 800, dtype: object\n"
     ]
    }
   ],
   "source": [
    "# Get last row \n",
    "print(df.iloc[-1]) # we can not pass -1 as index in loc() ONLY DIFF BTW iloc()"
   ]
  },
  {
   "cell_type": "code",
   "execution_count": 23,
   "id": "2f34cd14",
   "metadata": {},
   "outputs": [
    {
     "name": "stdout",
     "output_type": "stream",
     "text": [
      "0  Year            Country  Code  \\\n",
      "3  2018  Belgien (ab 1999)  WA29   \n",
      "7  2018  Belgien (ab 1999)  WA36   \n",
      "9  2018  Belgien (ab 1999)  WA38   \n",
      "\n",
      "0                                               Item ExportWeight_InTons  \\\n",
      "3                   Organische chemische Erzeugnisse           1910362,9   \n",
      "7          Sprengstoffe, pyrotechnische Artikel usw.              1438,1   \n",
      "9  Verschiedene Erzeugnisse der Chemischen Industrie            642301,7   \n",
      "\n",
      "0  ExportValue_EUROs  ExportValue_inUSD ImportWeight_InTons  \\\n",
      "3            2153530            2555244           2956011,4   \n",
      "7               4125               4857               391,6   \n",
      "9            1089266            1289074            916059,5   \n",
      "\n",
      "0  ImportValue_inEUROs  ImportValue_inUSD  \n",
      "3              8276110            9792420  \n",
      "7                 6938               8219  \n",
      "9              1185496            1402507  \n"
     ]
    }
   ],
   "source": [
    "# Subsetting multiple rows using iloc()\n",
    "print(df.iloc[[2, 6, 8]])"
   ]
  },
  {
   "cell_type": "code",
   "execution_count": 24,
   "id": "b63e107a",
   "metadata": {},
   "outputs": [],
   "source": [
    "# Subsetting Columns \n",
    "# The python slicing syntax uses a colcon \":\"\n",
    "# If we just use colcon, the attribute refers everything."
   ]
  },
  {
   "cell_type": "code",
   "execution_count": 25,
   "id": "6dc3307d",
   "metadata": {},
   "outputs": [
    {
     "data": {
      "text/html": [
       "<div>\n",
       "<style scoped>\n",
       "    .dataframe tbody tr th:only-of-type {\n",
       "        vertical-align: middle;\n",
       "    }\n",
       "\n",
       "    .dataframe tbody tr th {\n",
       "        vertical-align: top;\n",
       "    }\n",
       "\n",
       "    .dataframe thead th {\n",
       "        text-align: right;\n",
       "    }\n",
       "</style>\n",
       "<table border=\"1\" class=\"dataframe\">\n",
       "  <thead>\n",
       "    <tr style=\"text-align: right;\">\n",
       "      <th></th>\n",
       "      <th>Year</th>\n",
       "      <th>Country</th>\n",
       "      <th>Code</th>\n",
       "    </tr>\n",
       "  </thead>\n",
       "  <tbody>\n",
       "    <tr>\n",
       "      <th>1</th>\n",
       "      <td>2018</td>\n",
       "      <td>Belgien (ab 1999)</td>\n",
       "      <td>WA27</td>\n",
       "    </tr>\n",
       "    <tr>\n",
       "      <th>2</th>\n",
       "      <td>2018</td>\n",
       "      <td>Belgien (ab 1999)</td>\n",
       "      <td>WA28</td>\n",
       "    </tr>\n",
       "    <tr>\n",
       "      <th>3</th>\n",
       "      <td>2018</td>\n",
       "      <td>Belgien (ab 1999)</td>\n",
       "      <td>WA29</td>\n",
       "    </tr>\n",
       "    <tr>\n",
       "      <th>4</th>\n",
       "      <td>2018</td>\n",
       "      <td>Belgien (ab 1999)</td>\n",
       "      <td>WA30</td>\n",
       "    </tr>\n",
       "    <tr>\n",
       "      <th>5</th>\n",
       "      <td>2018</td>\n",
       "      <td>Belgien (ab 1999)</td>\n",
       "      <td>WA31</td>\n",
       "    </tr>\n",
       "  </tbody>\n",
       "</table>\n",
       "</div>"
      ],
      "text/plain": [
       "0  Year            Country  Code\n",
       "1  2018  Belgien (ab 1999)  WA27\n",
       "2  2018  Belgien (ab 1999)  WA28\n",
       "3  2018  Belgien (ab 1999)  WA29\n",
       "4  2018  Belgien (ab 1999)  WA30\n",
       "5  2018  Belgien (ab 1999)  WA31"
      ]
     },
     "execution_count": 25,
     "metadata": {},
     "output_type": "execute_result"
    }
   ],
   "source": [
    "subset = df.loc[:,['Year','Country','Code']] # [row, col]\n",
    "subset.head() # by default head() shows first 5 elements "
   ]
  },
  {
   "cell_type": "code",
   "execution_count": 26,
   "id": "10d04af3",
   "metadata": {},
   "outputs": [
    {
     "data": {
      "text/html": [
       "<div>\n",
       "<style scoped>\n",
       "    .dataframe tbody tr th:only-of-type {\n",
       "        vertical-align: middle;\n",
       "    }\n",
       "\n",
       "    .dataframe tbody tr th {\n",
       "        vertical-align: top;\n",
       "    }\n",
       "\n",
       "    .dataframe thead th {\n",
       "        text-align: right;\n",
       "    }\n",
       "</style>\n",
       "<table border=\"1\" class=\"dataframe\">\n",
       "  <thead>\n",
       "    <tr style=\"text-align: right;\">\n",
       "      <th></th>\n",
       "      <th>Year</th>\n",
       "      <th>Country</th>\n",
       "      <th>Code</th>\n",
       "    </tr>\n",
       "  </thead>\n",
       "  <tbody>\n",
       "    <tr>\n",
       "      <th>1</th>\n",
       "      <td>2018</td>\n",
       "      <td>Belgien (ab 1999)</td>\n",
       "      <td>WA27</td>\n",
       "    </tr>\n",
       "    <tr>\n",
       "      <th>2</th>\n",
       "      <td>2018</td>\n",
       "      <td>Belgien (ab 1999)</td>\n",
       "      <td>WA28</td>\n",
       "    </tr>\n",
       "    <tr>\n",
       "      <th>3</th>\n",
       "      <td>2018</td>\n",
       "      <td>Belgien (ab 1999)</td>\n",
       "      <td>WA29</td>\n",
       "    </tr>\n",
       "    <tr>\n",
       "      <th>4</th>\n",
       "      <td>2018</td>\n",
       "      <td>Belgien (ab 1999)</td>\n",
       "      <td>WA30</td>\n",
       "    </tr>\n",
       "    <tr>\n",
       "      <th>5</th>\n",
       "      <td>2018</td>\n",
       "      <td>Belgien (ab 1999)</td>\n",
       "      <td>WA31</td>\n",
       "    </tr>\n",
       "    <tr>\n",
       "      <th>6</th>\n",
       "      <td>2018</td>\n",
       "      <td>Belgien (ab 1999)</td>\n",
       "      <td>WA33</td>\n",
       "    </tr>\n",
       "    <tr>\n",
       "      <th>7</th>\n",
       "      <td>2018</td>\n",
       "      <td>Belgien (ab 1999)</td>\n",
       "      <td>WA36</td>\n",
       "    </tr>\n",
       "    <tr>\n",
       "      <th>8</th>\n",
       "      <td>2018</td>\n",
       "      <td>Belgien (ab 1999)</td>\n",
       "      <td>WA37</td>\n",
       "    </tr>\n",
       "    <tr>\n",
       "      <th>9</th>\n",
       "      <td>2018</td>\n",
       "      <td>Belgien (ab 1999)</td>\n",
       "      <td>WA38</td>\n",
       "    </tr>\n",
       "    <tr>\n",
       "      <th>10</th>\n",
       "      <td>2018</td>\n",
       "      <td>Belgien (ab 1999)</td>\n",
       "      <td>WA72</td>\n",
       "    </tr>\n",
       "  </tbody>\n",
       "</table>\n",
       "</div>"
      ],
      "text/plain": [
       "0   Year            Country  Code\n",
       "1   2018  Belgien (ab 1999)  WA27\n",
       "2   2018  Belgien (ab 1999)  WA28\n",
       "3   2018  Belgien (ab 1999)  WA29\n",
       "4   2018  Belgien (ab 1999)  WA30\n",
       "5   2018  Belgien (ab 1999)  WA31\n",
       "6   2018  Belgien (ab 1999)  WA33\n",
       "7   2018  Belgien (ab 1999)  WA36\n",
       "8   2018  Belgien (ab 1999)  WA37\n",
       "9   2018  Belgien (ab 1999)  WA38\n",
       "10  2018  Belgien (ab 1999)  WA72"
      ]
     },
     "execution_count": 26,
     "metadata": {},
     "output_type": "execute_result"
    }
   ],
   "source": [
    "subset.head(n=10) # for printing forst 10 elements "
   ]
  },
  {
   "cell_type": "code",
   "execution_count": 27,
   "id": "bef9f099",
   "metadata": {},
   "outputs": [
    {
     "data": {
      "text/html": [
       "<div>\n",
       "<style scoped>\n",
       "    .dataframe tbody tr th:only-of-type {\n",
       "        vertical-align: middle;\n",
       "    }\n",
       "\n",
       "    .dataframe tbody tr th {\n",
       "        vertical-align: top;\n",
       "    }\n",
       "\n",
       "    .dataframe thead th {\n",
       "        text-align: right;\n",
       "    }\n",
       "</style>\n",
       "<table border=\"1\" class=\"dataframe\">\n",
       "  <thead>\n",
       "    <tr style=\"text-align: right;\">\n",
       "      <th></th>\n",
       "      <th>Code</th>\n",
       "      <th>ExportWeight_InTons</th>\n",
       "      <th>ImportValue_inUSD</th>\n",
       "    </tr>\n",
       "  </thead>\n",
       "  <tbody>\n",
       "    <tr>\n",
       "      <th>1</th>\n",
       "      <td>WA27</td>\n",
       "      <td>3132455,3</td>\n",
       "      <td>5346907</td>\n",
       "    </tr>\n",
       "    <tr>\n",
       "      <th>2</th>\n",
       "      <td>WA28</td>\n",
       "      <td>1545331,2</td>\n",
       "      <td>605953</td>\n",
       "    </tr>\n",
       "    <tr>\n",
       "      <th>3</th>\n",
       "      <td>WA29</td>\n",
       "      <td>1910362,9</td>\n",
       "      <td>9792420</td>\n",
       "    </tr>\n",
       "    <tr>\n",
       "      <th>4</th>\n",
       "      <td>WA30</td>\n",
       "      <td>19757,2</td>\n",
       "      <td>2518162</td>\n",
       "    </tr>\n",
       "    <tr>\n",
       "      <th>5</th>\n",
       "      <td>WA31</td>\n",
       "      <td>638300,2</td>\n",
       "      <td>180433</td>\n",
       "    </tr>\n",
       "  </tbody>\n",
       "</table>\n",
       "</div>"
      ],
      "text/plain": [
       "0  Code ExportWeight_InTons  ImportValue_inUSD\n",
       "1  WA27           3132455,3            5346907\n",
       "2  WA28           1545331,2             605953\n",
       "3  WA29           1910362,9            9792420\n",
       "4  WA30             19757,2            2518162\n",
       "5  WA31            638300,2             180433"
      ]
     },
     "execution_count": 27,
     "metadata": {},
     "output_type": "execute_result"
    }
   ],
   "source": [
    "subset = df.iloc[:,[2,4,-1]] \n",
    "subset.head()"
   ]
  },
  {
   "cell_type": "code",
   "execution_count": 28,
   "id": "5c715742",
   "metadata": {},
   "outputs": [
    {
     "name": "stdout",
     "output_type": "stream",
     "text": [
      "[0, 1, 2, 3, 4]\n"
     ]
    },
    {
     "data": {
      "text/html": [
       "<div>\n",
       "<style scoped>\n",
       "    .dataframe tbody tr th:only-of-type {\n",
       "        vertical-align: middle;\n",
       "    }\n",
       "\n",
       "    .dataframe tbody tr th {\n",
       "        vertical-align: top;\n",
       "    }\n",
       "\n",
       "    .dataframe thead th {\n",
       "        text-align: right;\n",
       "    }\n",
       "</style>\n",
       "<table border=\"1\" class=\"dataframe\">\n",
       "  <thead>\n",
       "    <tr style=\"text-align: right;\">\n",
       "      <th></th>\n",
       "      <th>Year</th>\n",
       "      <th>Country</th>\n",
       "      <th>Code</th>\n",
       "      <th>Item</th>\n",
       "      <th>ExportWeight_InTons</th>\n",
       "    </tr>\n",
       "  </thead>\n",
       "  <tbody>\n",
       "    <tr>\n",
       "      <th>1</th>\n",
       "      <td>2018</td>\n",
       "      <td>Belgien (ab 1999)</td>\n",
       "      <td>WA27</td>\n",
       "      <td>Mineralische Brennstoffe usw.</td>\n",
       "      <td>3132455,3</td>\n",
       "    </tr>\n",
       "    <tr>\n",
       "      <th>2</th>\n",
       "      <td>2018</td>\n",
       "      <td>Belgien (ab 1999)</td>\n",
       "      <td>WA28</td>\n",
       "      <td>Anorganische chemische Erzeugnisse</td>\n",
       "      <td>1545331,2</td>\n",
       "    </tr>\n",
       "    <tr>\n",
       "      <th>3</th>\n",
       "      <td>2018</td>\n",
       "      <td>Belgien (ab 1999)</td>\n",
       "      <td>WA29</td>\n",
       "      <td>Organische chemische Erzeugnisse</td>\n",
       "      <td>1910362,9</td>\n",
       "    </tr>\n",
       "    <tr>\n",
       "      <th>4</th>\n",
       "      <td>2018</td>\n",
       "      <td>Belgien (ab 1999)</td>\n",
       "      <td>WA30</td>\n",
       "      <td>Pharmazeutische Erzeugnisse</td>\n",
       "      <td>19757,2</td>\n",
       "    </tr>\n",
       "    <tr>\n",
       "      <th>5</th>\n",
       "      <td>2018</td>\n",
       "      <td>Belgien (ab 1999)</td>\n",
       "      <td>WA31</td>\n",
       "      <td>Düngemittel</td>\n",
       "      <td>638300,2</td>\n",
       "    </tr>\n",
       "  </tbody>\n",
       "</table>\n",
       "</div>"
      ],
      "text/plain": [
       "0  Year            Country  Code                                Item  \\\n",
       "1  2018  Belgien (ab 1999)  WA27       Mineralische Brennstoffe usw.   \n",
       "2  2018  Belgien (ab 1999)  WA28  Anorganische chemische Erzeugnisse   \n",
       "3  2018  Belgien (ab 1999)  WA29    Organische chemische Erzeugnisse   \n",
       "4  2018  Belgien (ab 1999)  WA30         Pharmazeutische Erzeugnisse   \n",
       "5  2018  Belgien (ab 1999)  WA31                         Düngemittel   \n",
       "\n",
       "0 ExportWeight_InTons  \n",
       "1           3132455,3  \n",
       "2           1545331,2  \n",
       "3           1910362,9  \n",
       "4             19757,2  \n",
       "5            638300,2  "
      ]
     },
     "execution_count": 28,
     "metadata": {},
     "output_type": "execute_result"
    }
   ],
   "source": [
    "# subsetting columns by range \n",
    "small_range = list(range(5))\n",
    "print(small_range)\n",
    "\n",
    "subset = df.iloc[:,small_range] \n",
    "subset.head()"
   ]
  },
  {
   "cell_type": "code",
   "execution_count": 29,
   "id": "0d94249f",
   "metadata": {},
   "outputs": [
    {
     "name": "stdout",
     "output_type": "stream",
     "text": [
      "2018\n"
     ]
    }
   ],
   "source": [
    "# subsetting rows and columns using loc()\n",
    "print(df.loc[42, 'Year'])"
   ]
  },
  {
   "cell_type": "code",
   "execution_count": 30,
   "id": "29455842",
   "metadata": {},
   "outputs": [
    {
     "name": "stdout",
     "output_type": "stream",
     "text": [
      "2018\n"
     ]
    }
   ],
   "source": [
    "# subsetting rows and columns using iloc()\n",
    "print(df.iloc[42, 0])"
   ]
  },
  {
   "cell_type": "code",
   "execution_count": 31,
   "id": "47126759",
   "metadata": {},
   "outputs": [
    {
     "name": "stdout",
     "output_type": "stream",
     "text": [
      "0  Year            Country  Code\n",
      "2  2018  Belgien (ab 1999)  WA28\n",
      "4  2018  Belgien (ab 1999)  WA30\n",
      "6  2018  Belgien (ab 1999)  WA33\n"
     ]
    }
   ],
   "source": [
    "# subsetting multiple rows and columns using loc()\n",
    "print(df.loc[[2,4,6], ['Year','Country','Code']])"
   ]
  },
  {
   "cell_type": "code",
   "execution_count": 32,
   "id": "fc48bb35",
   "metadata": {},
   "outputs": [
    {
     "name": "stdout",
     "output_type": "stream",
     "text": [
      "0            Country                                       Item  \\\n",
      "3  Belgien (ab 1999)           Organische chemische Erzeugnisse   \n",
      "5  Belgien (ab 1999)                                Düngemittel   \n",
      "7  Belgien (ab 1999)  Sprengstoffe, pyrotechnische Artikel usw.   \n",
      "\n",
      "0  ExportValue_EUROs  \n",
      "3            2153530  \n",
      "5             183896  \n",
      "7               4125  \n"
     ]
    }
   ],
   "source": [
    "# subsetting multiple rows and columns using iloc()\n",
    "print(df.iloc[[2,4,6], [1,3,5]])"
   ]
  },
  {
   "cell_type": "code",
   "execution_count": 33,
   "id": "6a93a69b",
   "metadata": {},
   "outputs": [
    {
     "name": "stdout",
     "output_type": "stream",
     "text": [
      "0            Country                              Item  ExportValue_EUROs\n",
      "3  Belgien (ab 1999)  Organische chemische Erzeugnisse            2153530\n",
      "4  Belgien (ab 1999)       Pharmazeutische Erzeugnisse            2514640\n",
      "5  Belgien (ab 1999)                       Düngemittel             183896\n"
     ]
    }
   ],
   "source": [
    "# subsetting multiple rows and columns using iloc()\n",
    "print(df.iloc[2:5, [1,3,5]])"
   ]
  },
  {
   "cell_type": "markdown",
   "id": "26e6127e",
   "metadata": {},
   "source": [
    "### Grouped means \n"
   ]
  },
  {
   "cell_type": "code",
   "execution_count": 34,
   "id": "c48e27bd",
   "metadata": {},
   "outputs": [
    {
     "data": {
      "text/plain": [
       "Year\n",
       "2018    8543471,21387616,72956011,424980,7598110,93288...\n",
       "2019    8832130,41277986,82752052,231966,2750164,62551...\n",
       "2020    7797384,51292308,22661554,239293,4766274,04240...\n",
       "2021    7867323,81420058,23121618,840650,6707863,33725...\n",
       "Name: ImportWeight_InTons, dtype: object"
      ]
     },
     "execution_count": 34,
     "metadata": {},
     "output_type": "execute_result"
    }
   ],
   "source": [
    "# ImportWeight_InTons group by year\n",
    "ImportWeight_InTons_by_year_sum = df.groupby(\"Year\")[\"ImportWeight_InTons\"].sum()\n",
    "ImportWeight_InTons_by_year_sum.head() "
   ]
  },
  {
   "cell_type": "code",
   "execution_count": 35,
   "id": "9d2f45b2",
   "metadata": {},
   "outputs": [
    {
     "name": "stdout",
     "output_type": "stream",
     "text": [
      "0                                                                             ImportWeight_InTons  \\\n",
      "Year Country           Code Item                                                                    \n",
      "2018 Belgien (ab 1999) WA27 Mineralische Brennstoffe usw.                               8543471,2   \n",
      "                       WA28 Anorganische chemische Erzeugnisse                          1387616,7   \n",
      "                       WA29 Organische chemische Erzeugnisse                            2956011,4   \n",
      "                       WA30 Pharmazeutische Erzeugnisse                                   24980,7   \n",
      "                       WA31 Düngemittel                                                  598110,9   \n",
      "                       WA33 Etherische Öle, Riech-, Schönheitsmittel                      32888,4   \n",
      "                       WA36 Sprengstoffe, pyrotechnische Artikel usw.                       391,6   \n",
      "                       WA37 Photochemische Erzeugnisse                                     8358,3   \n",
      "                       WA38 Verschiedene Erzeugnisse der Chemischen Industrie            916059,5   \n",
      "                       WA72 Eisen und Stahl                                             4031464,8   \n",
      "                       WA73 Waren aus Eisen oder Stahl                                   277288,0   \n",
      "                       WA83 Verschiedene Waren aus unedlen Metallen                        2945,2   \n",
      "                       WA84 Maschinen, Apparate, mechanische Geräte                      132794,9   \n",
      "                       WA85 Elektrotechnische Erzeugnisse                                 53560,4   \n",
      "                       WA86 Schienenfahrzeuge                                              1788,1   \n",
      "                       WA87 Kraftfahrzeuge, Landfahrzeuge                                394784,7   \n",
      "                       WA88 Luftfahrzeuge, Raumfahrzeuge                                   2441,7   \n",
      "                       WA89 Wasserfahrzeuge                                                 869,8   \n",
      "                       WA90 Optische, photografische usw. Erzeugnisse                      7300,9   \n",
      "                       WA98 Vollständige Fabrikationsanlagen                                    0   \n",
      "     China             WA27 Mineralische Brennstoffe usw.                                206987,8   \n",
      "                       WA28 Anorganische chemische Erzeugnisse                           287958,0   \n",
      "                       WA29 Organische chemische Erzeugnisse                             495834,0   \n",
      "                       WA30 Pharmazeutische Erzeugnisse                                   28050,9   \n",
      "                       WA31 Düngemittel                                                     792,5   \n",
      "                       WA33 Etherische Öle, Riech-, Schönheitsmittel                      17609,0   \n",
      "                       WA36 Sprengstoffe, pyrotechnische Artikel usw.                     47714,3   \n",
      "                       WA37 Photochemische Erzeugnisse                                     1668,5   \n",
      "                       WA38 Verschiedene Erzeugnisse der Chemischen Industrie            108339,9   \n",
      "                       WA72 Eisen und Stahl                                              456311,4   \n",
      "\n",
      "0                                                                             ExportWeight_InTons  \n",
      "Year Country           Code Item                                                                   \n",
      "2018 Belgien (ab 1999) WA27 Mineralische Brennstoffe usw.                               3132455,3  \n",
      "                       WA28 Anorganische chemische Erzeugnisse                          1545331,2  \n",
      "                       WA29 Organische chemische Erzeugnisse                            1910362,9  \n",
      "                       WA30 Pharmazeutische Erzeugnisse                                   19757,2  \n",
      "                       WA31 Düngemittel                                                  638300,2  \n",
      "                       WA33 Etherische Öle, Riech-, Schönheitsmittel                      50718,5  \n",
      "                       WA36 Sprengstoffe, pyrotechnische Artikel usw.                      1438,1  \n",
      "                       WA37 Photochemische Erzeugnisse                                    38596,8  \n",
      "                       WA38 Verschiedene Erzeugnisse der Chemischen Industrie            642301,7  \n",
      "                       WA72 Eisen und Stahl                                             2808395,2  \n",
      "                       WA73 Waren aus Eisen oder Stahl                                   344905,5  \n",
      "                       WA83 Verschiedene Waren aus unedlen Metallen                       29738,5  \n",
      "                       WA84 Maschinen, Apparate, mechanische Geräte                      346977,9  \n",
      "                       WA85 Elektrotechnische Erzeugnisse                                120607,6  \n",
      "                       WA86 Schienenfahrzeuge                                              4799,8  \n",
      "                       WA87 Kraftfahrzeuge, Landfahrzeuge                                667910,0  \n",
      "                       WA88 Luftfahrzeuge, Raumfahrzeuge                                    184,2  \n",
      "                       WA89 Wasserfahrzeuge                                               17277,7  \n",
      "                       WA90 Optische, photografische usw. Erzeugnisse                     13814,4  \n",
      "                       WA98 Vollständige Fabrikationsanlagen                                    0  \n",
      "     China             WA27 Mineralische Brennstoffe usw.                                107938,5  \n",
      "                       WA28 Anorganische chemische Erzeugnisse                           165730,3  \n",
      "                       WA29 Organische chemische Erzeugnisse                             270163,0  \n",
      "                       WA30 Pharmazeutische Erzeugnisse                                   25572,9  \n",
      "                       WA31 Düngemittel                                                   53875,9  \n",
      "                       WA33 Etherische Öle, Riech-, Schönheitsmittel                      10975,7  \n",
      "                       WA36 Sprengstoffe, pyrotechnische Artikel usw.                       213,5  \n",
      "                       WA37 Photochemische Erzeugnisse                                      938,8  \n",
      "                       WA38 Verschiedene Erzeugnisse der Chemischen Industrie            183124,5  \n",
      "                       WA72 Eisen und Stahl                                              624982,9  \n"
     ]
    }
   ],
   "source": [
    "# Stacked table \n",
    "multi_group_var = df.\\\n",
    "                groupby(['Year','Country','Code',\"Item\"])\\\n",
    "                [[\"ImportWeight_InTons\",\"ExportWeight_InTons\"]].\\\n",
    "                sum()\n",
    "print(multi_group_var.head(n=30))"
   ]
  },
  {
   "cell_type": "code",
   "execution_count": 36,
   "id": "0929879f",
   "metadata": {},
   "outputs": [
    {
     "data": {
      "text/html": [
       "<div>\n",
       "<style scoped>\n",
       "    .dataframe tbody tr th:only-of-type {\n",
       "        vertical-align: middle;\n",
       "    }\n",
       "\n",
       "    .dataframe tbody tr th {\n",
       "        vertical-align: top;\n",
       "    }\n",
       "\n",
       "    .dataframe thead th {\n",
       "        text-align: right;\n",
       "    }\n",
       "</style>\n",
       "<table border=\"1\" class=\"dataframe\">\n",
       "  <thead>\n",
       "    <tr style=\"text-align: right;\">\n",
       "      <th></th>\n",
       "      <th>Year</th>\n",
       "      <th>Country</th>\n",
       "      <th>Code</th>\n",
       "      <th>Item</th>\n",
       "      <th>ImportWeight_InTons</th>\n",
       "      <th>ExportWeight_InTons</th>\n",
       "    </tr>\n",
       "  </thead>\n",
       "  <tbody>\n",
       "    <tr>\n",
       "      <th>0</th>\n",
       "      <td>2018</td>\n",
       "      <td>Belgien (ab 1999)</td>\n",
       "      <td>WA27</td>\n",
       "      <td>Mineralische Brennstoffe usw.</td>\n",
       "      <td>8543471,2</td>\n",
       "      <td>3132455,3</td>\n",
       "    </tr>\n",
       "    <tr>\n",
       "      <th>1</th>\n",
       "      <td>2018</td>\n",
       "      <td>Belgien (ab 1999)</td>\n",
       "      <td>WA28</td>\n",
       "      <td>Anorganische chemische Erzeugnisse</td>\n",
       "      <td>1387616,7</td>\n",
       "      <td>1545331,2</td>\n",
       "    </tr>\n",
       "    <tr>\n",
       "      <th>2</th>\n",
       "      <td>2018</td>\n",
       "      <td>Belgien (ab 1999)</td>\n",
       "      <td>WA29</td>\n",
       "      <td>Organische chemische Erzeugnisse</td>\n",
       "      <td>2956011,4</td>\n",
       "      <td>1910362,9</td>\n",
       "    </tr>\n",
       "    <tr>\n",
       "      <th>3</th>\n",
       "      <td>2018</td>\n",
       "      <td>Belgien (ab 1999)</td>\n",
       "      <td>WA30</td>\n",
       "      <td>Pharmazeutische Erzeugnisse</td>\n",
       "      <td>24980,7</td>\n",
       "      <td>19757,2</td>\n",
       "    </tr>\n",
       "    <tr>\n",
       "      <th>4</th>\n",
       "      <td>2018</td>\n",
       "      <td>Belgien (ab 1999)</td>\n",
       "      <td>WA31</td>\n",
       "      <td>Düngemittel</td>\n",
       "      <td>598110,9</td>\n",
       "      <td>638300,2</td>\n",
       "    </tr>\n",
       "    <tr>\n",
       "      <th>5</th>\n",
       "      <td>2018</td>\n",
       "      <td>Belgien (ab 1999)</td>\n",
       "      <td>WA33</td>\n",
       "      <td>Etherische Öle, Riech-, Schönheitsmittel</td>\n",
       "      <td>32888,4</td>\n",
       "      <td>50718,5</td>\n",
       "    </tr>\n",
       "    <tr>\n",
       "      <th>6</th>\n",
       "      <td>2018</td>\n",
       "      <td>Belgien (ab 1999)</td>\n",
       "      <td>WA36</td>\n",
       "      <td>Sprengstoffe, pyrotechnische Artikel usw.</td>\n",
       "      <td>391,6</td>\n",
       "      <td>1438,1</td>\n",
       "    </tr>\n",
       "    <tr>\n",
       "      <th>7</th>\n",
       "      <td>2018</td>\n",
       "      <td>Belgien (ab 1999)</td>\n",
       "      <td>WA37</td>\n",
       "      <td>Photochemische Erzeugnisse</td>\n",
       "      <td>8358,3</td>\n",
       "      <td>38596,8</td>\n",
       "    </tr>\n",
       "    <tr>\n",
       "      <th>8</th>\n",
       "      <td>2018</td>\n",
       "      <td>Belgien (ab 1999)</td>\n",
       "      <td>WA38</td>\n",
       "      <td>Verschiedene Erzeugnisse der Chemischen Industrie</td>\n",
       "      <td>916059,5</td>\n",
       "      <td>642301,7</td>\n",
       "    </tr>\n",
       "    <tr>\n",
       "      <th>9</th>\n",
       "      <td>2018</td>\n",
       "      <td>Belgien (ab 1999)</td>\n",
       "      <td>WA72</td>\n",
       "      <td>Eisen und Stahl</td>\n",
       "      <td>4031464,8</td>\n",
       "      <td>2808395,2</td>\n",
       "    </tr>\n",
       "    <tr>\n",
       "      <th>10</th>\n",
       "      <td>2018</td>\n",
       "      <td>Belgien (ab 1999)</td>\n",
       "      <td>WA73</td>\n",
       "      <td>Waren aus Eisen oder Stahl</td>\n",
       "      <td>277288,0</td>\n",
       "      <td>344905,5</td>\n",
       "    </tr>\n",
       "    <tr>\n",
       "      <th>11</th>\n",
       "      <td>2018</td>\n",
       "      <td>Belgien (ab 1999)</td>\n",
       "      <td>WA83</td>\n",
       "      <td>Verschiedene Waren aus unedlen Metallen</td>\n",
       "      <td>2945,2</td>\n",
       "      <td>29738,5</td>\n",
       "    </tr>\n",
       "    <tr>\n",
       "      <th>12</th>\n",
       "      <td>2018</td>\n",
       "      <td>Belgien (ab 1999)</td>\n",
       "      <td>WA84</td>\n",
       "      <td>Maschinen, Apparate, mechanische Geräte</td>\n",
       "      <td>132794,9</td>\n",
       "      <td>346977,9</td>\n",
       "    </tr>\n",
       "    <tr>\n",
       "      <th>13</th>\n",
       "      <td>2018</td>\n",
       "      <td>Belgien (ab 1999)</td>\n",
       "      <td>WA85</td>\n",
       "      <td>Elektrotechnische Erzeugnisse</td>\n",
       "      <td>53560,4</td>\n",
       "      <td>120607,6</td>\n",
       "    </tr>\n",
       "    <tr>\n",
       "      <th>14</th>\n",
       "      <td>2018</td>\n",
       "      <td>Belgien (ab 1999)</td>\n",
       "      <td>WA86</td>\n",
       "      <td>Schienenfahrzeuge</td>\n",
       "      <td>1788,1</td>\n",
       "      <td>4799,8</td>\n",
       "    </tr>\n",
       "    <tr>\n",
       "      <th>15</th>\n",
       "      <td>2018</td>\n",
       "      <td>Belgien (ab 1999)</td>\n",
       "      <td>WA87</td>\n",
       "      <td>Kraftfahrzeuge, Landfahrzeuge</td>\n",
       "      <td>394784,7</td>\n",
       "      <td>667910,0</td>\n",
       "    </tr>\n",
       "    <tr>\n",
       "      <th>16</th>\n",
       "      <td>2018</td>\n",
       "      <td>Belgien (ab 1999)</td>\n",
       "      <td>WA88</td>\n",
       "      <td>Luftfahrzeuge, Raumfahrzeuge</td>\n",
       "      <td>2441,7</td>\n",
       "      <td>184,2</td>\n",
       "    </tr>\n",
       "    <tr>\n",
       "      <th>17</th>\n",
       "      <td>2018</td>\n",
       "      <td>Belgien (ab 1999)</td>\n",
       "      <td>WA89</td>\n",
       "      <td>Wasserfahrzeuge</td>\n",
       "      <td>869,8</td>\n",
       "      <td>17277,7</td>\n",
       "    </tr>\n",
       "    <tr>\n",
       "      <th>18</th>\n",
       "      <td>2018</td>\n",
       "      <td>Belgien (ab 1999)</td>\n",
       "      <td>WA90</td>\n",
       "      <td>Optische, photografische usw. Erzeugnisse</td>\n",
       "      <td>7300,9</td>\n",
       "      <td>13814,4</td>\n",
       "    </tr>\n",
       "    <tr>\n",
       "      <th>19</th>\n",
       "      <td>2018</td>\n",
       "      <td>Belgien (ab 1999)</td>\n",
       "      <td>WA98</td>\n",
       "      <td>Vollständige Fabrikationsanlagen</td>\n",
       "      <td>0</td>\n",
       "      <td>0</td>\n",
       "    </tr>\n",
       "    <tr>\n",
       "      <th>20</th>\n",
       "      <td>2018</td>\n",
       "      <td>China</td>\n",
       "      <td>WA27</td>\n",
       "      <td>Mineralische Brennstoffe usw.</td>\n",
       "      <td>206987,8</td>\n",
       "      <td>107938,5</td>\n",
       "    </tr>\n",
       "    <tr>\n",
       "      <th>21</th>\n",
       "      <td>2018</td>\n",
       "      <td>China</td>\n",
       "      <td>WA28</td>\n",
       "      <td>Anorganische chemische Erzeugnisse</td>\n",
       "      <td>287958,0</td>\n",
       "      <td>165730,3</td>\n",
       "    </tr>\n",
       "    <tr>\n",
       "      <th>22</th>\n",
       "      <td>2018</td>\n",
       "      <td>China</td>\n",
       "      <td>WA29</td>\n",
       "      <td>Organische chemische Erzeugnisse</td>\n",
       "      <td>495834,0</td>\n",
       "      <td>270163,0</td>\n",
       "    </tr>\n",
       "    <tr>\n",
       "      <th>23</th>\n",
       "      <td>2018</td>\n",
       "      <td>China</td>\n",
       "      <td>WA30</td>\n",
       "      <td>Pharmazeutische Erzeugnisse</td>\n",
       "      <td>28050,9</td>\n",
       "      <td>25572,9</td>\n",
       "    </tr>\n",
       "    <tr>\n",
       "      <th>24</th>\n",
       "      <td>2018</td>\n",
       "      <td>China</td>\n",
       "      <td>WA31</td>\n",
       "      <td>Düngemittel</td>\n",
       "      <td>792,5</td>\n",
       "      <td>53875,9</td>\n",
       "    </tr>\n",
       "  </tbody>\n",
       "</table>\n",
       "</div>"
      ],
      "text/plain": [
       "0   Year            Country  Code  \\\n",
       "0   2018  Belgien (ab 1999)  WA27   \n",
       "1   2018  Belgien (ab 1999)  WA28   \n",
       "2   2018  Belgien (ab 1999)  WA29   \n",
       "3   2018  Belgien (ab 1999)  WA30   \n",
       "4   2018  Belgien (ab 1999)  WA31   \n",
       "5   2018  Belgien (ab 1999)  WA33   \n",
       "6   2018  Belgien (ab 1999)  WA36   \n",
       "7   2018  Belgien (ab 1999)  WA37   \n",
       "8   2018  Belgien (ab 1999)  WA38   \n",
       "9   2018  Belgien (ab 1999)  WA72   \n",
       "10  2018  Belgien (ab 1999)  WA73   \n",
       "11  2018  Belgien (ab 1999)  WA83   \n",
       "12  2018  Belgien (ab 1999)  WA84   \n",
       "13  2018  Belgien (ab 1999)  WA85   \n",
       "14  2018  Belgien (ab 1999)  WA86   \n",
       "15  2018  Belgien (ab 1999)  WA87   \n",
       "16  2018  Belgien (ab 1999)  WA88   \n",
       "17  2018  Belgien (ab 1999)  WA89   \n",
       "18  2018  Belgien (ab 1999)  WA90   \n",
       "19  2018  Belgien (ab 1999)  WA98   \n",
       "20  2018              China  WA27   \n",
       "21  2018              China  WA28   \n",
       "22  2018              China  WA29   \n",
       "23  2018              China  WA30   \n",
       "24  2018              China  WA31   \n",
       "\n",
       "0                                                Item ImportWeight_InTons  \\\n",
       "0                       Mineralische Brennstoffe usw.           8543471,2   \n",
       "1                  Anorganische chemische Erzeugnisse           1387616,7   \n",
       "2                    Organische chemische Erzeugnisse           2956011,4   \n",
       "3                         Pharmazeutische Erzeugnisse             24980,7   \n",
       "4                                         Düngemittel            598110,9   \n",
       "5            Etherische Öle, Riech-, Schönheitsmittel             32888,4   \n",
       "6           Sprengstoffe, pyrotechnische Artikel usw.               391,6   \n",
       "7                          Photochemische Erzeugnisse              8358,3   \n",
       "8   Verschiedene Erzeugnisse der Chemischen Industrie            916059,5   \n",
       "9                                     Eisen und Stahl           4031464,8   \n",
       "10                         Waren aus Eisen oder Stahl            277288,0   \n",
       "11            Verschiedene Waren aus unedlen Metallen              2945,2   \n",
       "12            Maschinen, Apparate, mechanische Geräte            132794,9   \n",
       "13                      Elektrotechnische Erzeugnisse             53560,4   \n",
       "14                                  Schienenfahrzeuge              1788,1   \n",
       "15                      Kraftfahrzeuge, Landfahrzeuge            394784,7   \n",
       "16                       Luftfahrzeuge, Raumfahrzeuge              2441,7   \n",
       "17                                    Wasserfahrzeuge               869,8   \n",
       "18          Optische, photografische usw. Erzeugnisse              7300,9   \n",
       "19                   Vollständige Fabrikationsanlagen                   0   \n",
       "20                      Mineralische Brennstoffe usw.            206987,8   \n",
       "21                 Anorganische chemische Erzeugnisse            287958,0   \n",
       "22                   Organische chemische Erzeugnisse            495834,0   \n",
       "23                        Pharmazeutische Erzeugnisse             28050,9   \n",
       "24                                        Düngemittel               792,5   \n",
       "\n",
       "0  ExportWeight_InTons  \n",
       "0            3132455,3  \n",
       "1            1545331,2  \n",
       "2            1910362,9  \n",
       "3              19757,2  \n",
       "4             638300,2  \n",
       "5              50718,5  \n",
       "6               1438,1  \n",
       "7              38596,8  \n",
       "8             642301,7  \n",
       "9            2808395,2  \n",
       "10            344905,5  \n",
       "11             29738,5  \n",
       "12            346977,9  \n",
       "13            120607,6  \n",
       "14              4799,8  \n",
       "15            667910,0  \n",
       "16               184,2  \n",
       "17             17277,7  \n",
       "18             13814,4  \n",
       "19                   0  \n",
       "20            107938,5  \n",
       "21            165730,3  \n",
       "22            270163,0  \n",
       "23             25572,9  \n",
       "24             53875,9  "
      ]
     },
     "execution_count": 36,
     "metadata": {},
     "output_type": "execute_result"
    }
   ],
   "source": [
    "# To flat the dataframe (multi_group_var)\n",
    "\n",
    "flat = multi_group_var.reset_index()\n",
    "flat.head(n=25)"
   ]
  },
  {
   "cell_type": "code",
   "execution_count": 37,
   "id": "ef7e01d1",
   "metadata": {},
   "outputs": [
    {
     "name": "stdout",
     "output_type": "stream",
     "text": [
      "Country\n",
      "Belgien (ab 1999)                 20\n",
      "China                             20\n",
      "Frankreich                        20\n",
      "Italien                           20\n",
      "Niederlande                       20\n",
      "Polen                             20\n",
      "Schweiz                           20\n",
      "Vereinigte Staaten von Amerika    20\n",
      "Vereinigtes Königreich            20\n",
      "Österreich                        20\n",
      "Name: Item, dtype: int64\n"
     ]
    }
   ],
   "source": [
    "# Grouped frequency count \n",
    "\n",
    "print(df.groupby('Country')['Item'].nunique())"
   ]
  },
  {
   "cell_type": "markdown",
   "id": "3cbefbe2",
   "metadata": {},
   "source": [
    "## Basic Plots\n",
    "\n",
    "### Visual Representation of the Data \n",
    "1. Histogram         -> Vertical bar chart of frequencies\n",
    "2. Frequency Polygon -> Line graph of frequencies \n",
    "3. Ogive             -> Line graph of cumulative frequencies \n",
    "4. Pie Chart         -> Proportional representation for categories of a whole\n",
    "5. Stem and Leaf Plot \n",
    "6. Pareto Chart      -> To check important parameter. E.x. to rectify fault\n",
    "7. Scatter Plot      -> To analize distributions \n",
    "\n",
    "### Principles of Graphs \n",
    "1. The graph should not be distort the data.\n",
    "2. The graph should not contain unnecessary adornments ( sometimes reffered to as chart junk).\n",
    "3. The scale on the vertical axis should begin at ZERO.\n",
    "4. All axis should be properly labeled.\n",
    "5. The graph should contain a title \n",
    "6. The simplest possible graph should be used for a given set of data \n",
    "7. Use proper scale "
   ]
  },
  {
   "cell_type": "code",
   "execution_count": 40,
   "id": "3c595db9",
   "metadata": {},
   "outputs": [
    {
     "data": {
      "text/plain": [
       "Year\n",
       "2018    653467259\n",
       "2019    627539024\n",
       "2020    573250881\n",
       "2021    677897280\n",
       "Name: ExportValue_inUSD, dtype: int64"
      ]
     },
     "execution_count": 40,
     "metadata": {},
     "output_type": "execute_result"
    }
   ],
   "source": [
    "total_export_value_by_year = df.groupby('Year')['ExportValue_inUSD'].sum()\n",
    "total_export_value_by_year"
   ]
  },
  {
   "cell_type": "code",
   "execution_count": 42,
   "id": "1bb3296f",
   "metadata": {},
   "outputs": [
    {
     "data": {
      "text/plain": [
       "<AxesSubplot:xlabel='Year'>"
      ]
     },
     "execution_count": 42,
     "metadata": {},
     "output_type": "execute_result"
    },
    {
     "data": {
      "image/png": "[encoded data removed]",
      "text/plain": [
       "<Figure size 640x480 with 1 Axes>"
      ]
     },
     "metadata": {},
     "output_type": "display_data"
    }
   ],
   "source": [
    "total_export_value_by_year.plot()"
   ]
  },
  {
   "cell_type": "markdown",
   "id": "9b6d1771",
   "metadata": {},
   "source": [
    "## Central Tendency and Dispersion - I\n",
    "\n",
    "1. Central tendency \n",
    "\n",
    "2.  Measures of dispersion \n",
    "\n",
    "3.  Measures of central tendency yield information about \"particular places or locations in a group of numbers.\"\n",
    "\n",
    "4. A single number to describe the characteristics of a set of data.\n",
    "\n",
    "5. Central tendency or measures of location \n",
    "<br> - Arithmetic mean -> commonly called mean, not applicable for nominal or ordinal data. \n",
    "<br> - Weighted mean \n",
    "<br> - Median \n",
    "<br> - Percentile \n",
    "\n",
    "6. Dispersion\n",
    "<br> - Skewness\n",
    "<br> - Kurtosis\n",
    "<br> - Range \n",
    "<br> - Interquartile\n",
    "<br> - Variance \n",
    "<br> - Standard score \n",
    "<br> - Coefficient of variation \n",
    "\n"
   ]
  },
  {
   "cell_type": "code",
   "execution_count": null,
   "id": "529912b8",
   "metadata": {},
   "outputs": [],
   "source": []
  }
 ],
 "metadata": {
  "kernelspec": {
   "display_name": "Python 3 (ipykernel)",
   "language": "python",
   "name": "python3"
  },
  "language_info": {
   "codemirror_mode": {
    "name": "ipython",
    "version": 3
   },
   "file_extension": ".py",
   "mimetype": "text/x-python",
   "name": "python",
   "nbconvert_exporter": "python",
   "pygments_lexer": "ipython3",
   "version": "3.9.13"
  }
 },
 "nbformat": 4,
 "nbformat_minor": 5
}
