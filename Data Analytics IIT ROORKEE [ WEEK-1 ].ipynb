{
 "cells": [
  {
   "cell_type": "markdown",
   "id": "d13ac294",
   "metadata": {},
   "source": [
    "# Course : Data Analytics with Python ( IIT-ROORKEE)\n",
    "\n",
    "## Week -1 \n",
    "## Introduction to Data-Analytics \n",
    "\n",
    "1. Variable - is a characteristics of any entity being studied that is capable of taking different values.\n",
    "2. Measurements - is when a standard process is used to assign numbers to particular attributes or characteristics of a variable.\n",
    "3. Data - data are recorded measurements. \n",
    "\n",
    "4. Data Analytics - It is a scientific process for transforming data into insights for making better decisions. In other words, it use of data, information technology, statistical analysis, quantitive methods, and mathematical or computer-based model to help managers gain improved insight about their business operations and make better, fact-based decisions - James Evans. It is the process of examining, transforming, and arranging raw data in a specific way to generate useful information from it. it allows for the evaluation of data through analytics and logical reasoning to lead to some sort of outcome or conclusion in some context. It is multi-faceted process that involves a number of steps, approached, and diverse techniques. \n",
    " \n",
    "5. Data Analysis (PAST)\n",
    "6. Data Analytics (FUTURE)  \n",
    "7. Qualitative = intuition + analysis (E.x. how and why story ends the way it did ? ) - Quantitative = Formulas + algorithms (Data + how the sale decreased last summer). \n",
    "\n",
    "8. Analysis != Analytics \n"
   ]
  },
  {
   "cell_type": "markdown",
   "id": "64d39d4a",
   "metadata": {},
   "source": [
    "#######################################################################"
   ]
  },
  {
   "cell_type": "markdown",
   "id": "b6938c12",
   "metadata": {},
   "source": [
    "9. Classification of Data-Analytics\n",
    "\n",
    "a. Descriptive analytics (statistics) - what happened ?\n",
    "Can summarise raw data and convert it into a form that can be easily understood by humans. E.x. Data queries, reports, descriptive statistics, data visualisation and data dashboard.\n",
    "\n",
    "b. Diagnostics analytics - why did it happen ?\n",
    "E.x. Data discovery, mining and correlations\n",
    "\n",
    "c. Predictive analytics - What will happen ?\n",
    "helps to forecast trends.Predicting the probability of an event happening in future or estimating the accurate time it will happen can all be determined with help of the predictive analytical models. Many different but co-dependent variables are analysed to predict a trend in this type of analysis. E.x. Linear regression, time series analysis and forecasting and data mining. \n",
    "\n",
    "d. Prescriptive analytics - How can we make it happen ?\n",
    "set of techniques to indicate the best course of action. it tells what decision to make to optimise the outcome. the goal of prescriptive is to enable. E.x. Optimise model, simulation, decision analysis. \n"
   ]
  },
  {
   "cell_type": "markdown",
   "id": "2ac2a80f",
   "metadata": {},
   "source": [
    "#######################################################################"
   ]
  },
  {
   "cell_type": "markdown",
   "id": "a23b7591",
   "metadata": {},
   "source": [
    "10. Required skill set for Data Scientist \n",
    "\n",
    "a. Mathematic Expertise \n",
    "\n",
    "b. Technology \n",
    "\n",
    "c. Business and strategy acumen\n",
    "\n",
    "11. Job Categorisation\n",
    "\n",
    "a. Data exploration analysis and insight (Data Analyst & Data Scientist) \n",
    "\n",
    "b. Adv algorithms and machine learning (Data Scientist)\n",
    "\n",
    "c. Data product engineering (Data Scientist)\n",
    "\n",
    "12. Types of Data  \n",
    "\n",
    "a. Catgorical (Defined categories) \n",
    "\n",
    "b. Numerical -> Discreate (counted items) or continuous(measured charachteristics)"
   ]
  },
  {
   "cell_type": "markdown",
   "id": "072d464e",
   "metadata": {},
   "source": [
    "#######################################################################"
   ]
  },
  {
   "cell_type": "markdown",
   "id": "c5ee1807",
   "metadata": {},
   "source": [
    "13. Levels of Data Measurment\n",
    "\n",
    "a. Nominal - lowest level of measurement (NO ARITHMETIC OPERATIONS) . A nominal scale classifies data into destinct ctegories in which no ranking is implied. E.x. gender, marital status. \n",
    "[non-parametrical]\n",
    "\n",
    "b. Ordinal (NO ARITHMETIC OPERATIONS)\n",
    "classifies data into distinct categories. E.x. Grades A, B, C, D etc\n",
    "[non-parametrical]\n",
    "\n",
    "c. Interval scale ( ADD SUBTRACT, NO MULTIPLICATION)\n",
    "The interval scale is ordered scale, in which the difference between measurements is a meaningful quantities but the measurment do not have a zero point. E.x. year, temperature.\n",
    "[parametrical]\n",
    "\n",
    "d. Ratio - highest level of measurement (ALL ARITHMETIC OPERATIONS)\n",
    "The ratio scale is the ordered scale in which the difference between the measurements isa meaningful quantity and the measurements have the true zero point. Weight, age, salary and the Kelvin temperature comes under ratio scale. it has highest usage potential. \n",
    "[parametrical]\n"
   ]
  },
  {
   "cell_type": "markdown",
   "id": "c8b3d07d",
   "metadata": {},
   "source": [
    "#######################################################################"
   ]
  },
  {
   "cell_type": "markdown",
   "id": "84302a5c",
   "metadata": {},
   "source": [
    "# Python Fundamentals - 1 "
   ]
  },
  {
   "cell_type": "code",
   "execution_count": null,
   "id": "9d2831d8",
   "metadata": {},
   "outputs": [],
   "source": []
  },
  {
   "cell_type": "code",
   "execution_count": null,
   "id": "d995e525",
   "metadata": {},
   "outputs": [],
   "source": []
  },
  {
   "cell_type": "code",
   "execution_count": null,
   "id": "e4a974dd",
   "metadata": {},
   "outputs": [],
   "source": []
  },
  {
   "cell_type": "code",
   "execution_count": null,
   "id": "ad1763aa",
   "metadata": {},
   "outputs": [],
   "source": []
  }
 ],
 "metadata": {
  "kernelspec": {
   "display_name": "Python 3 (ipykernel)",
   "language": "python",
   "name": "python3"
  },
  "language_info": {
   "codemirror_mode": {
    "name": "ipython",
    "version": 3
   },
   "file_extension": ".py",
   "mimetype": "text/x-python",
   "name": "python",
   "nbconvert_exporter": "python",
   "pygments_lexer": "ipython3",
   "version": "3.9.13"
  }
 },
 "nbformat": 4,
 "nbformat_minor": 5
}
